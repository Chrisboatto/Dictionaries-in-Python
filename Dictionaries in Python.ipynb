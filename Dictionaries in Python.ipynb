{
 "cells": [
  {
   "cell_type": "code",
   "execution_count": null,
   "metadata": {},
   "outputs": [],
   "source": [
    "#Dictionaries in Python\n",
    "\n",
    "\n",
    "#Dictionaries\n",
    "\n",
    "#What are Dictionaries?\n",
    "\n",
    "#A dictionary consists of keys and values. It is helpful to compare a dictionary to a list. \n",
    "#Instead of the numerical indexes such as a list, dictionaries have keys.\n",
    "#These keys are the keys that are used to access values within a dictionary.\n",
    "\n",
    "#An example of a Dictionary Dict:\n",
    "\n",
    "# Create the dictionary\n",
    "\n",
    "Dict = {\"key1\": 1, \"key2\": \"2\", \"key3\": [3, 3, 3], \"key4\": (4, 4, 4), ('key5'): 5, (0, 1): 6}\n",
    "Dict\n",
    "\n",
    "#The keys can be strings:\n",
    "\n",
    "# Access to the value by the key\n",
    "\n",
    "Dict[\"key1\"]\n",
    "\n",
    "#Keys can also be any immutable object such as a tuple: \n",
    "\n",
    "# Access to the value by the key\n",
    "\n",
    "Dict[(0, 1)]\n",
    "\n",
    "# Each key is separated from its value by a colon \":\".  Commas separate the items, and the whole dictionary is enclosed in curly braces. \n",
    "#An empty dictionary without any items is written with just two curly braces, like this {}.\n",
    "\n",
    "# Create a sample dictionary\n",
    "\n",
    "release_year_dict = {\"Thriller\": \"1982\", \"Back in Black\": \"1980\", \\\n",
    "                    \"The Dark Side of the Moon\": \"1973\", \"The Bodyguard\": \"1992\", \\\n",
    "                    \"Bat Out of Hell\": \"1977\", \"Their Greatest Hits (1971-1975)\": \"1976\", \\\n",
    "                    \"Saturday Night Fever\": \"1977\", \"Rumours\": \"1977\"}\n",
    "release_year_dict\n",
    "\n",
    "#In summary, like a list, a dictionary holds a sequence of elements. Each element is represented by a key and its corresponding value. \n",
    "#Dictionaries are created with two curly braces containing keys and values separated by a colon. For every key, there can only be one single value, however,  multiple keys can hold the same value. \n",
    "#Keys can only be strings, numbers, or tuples, but values can be any data type.\n",
    "\n",
    "#It is helpful to visualize the dictionary as a table, as in the following image. The first column represents the keys, the second column represents the values."
   ]
  },
  {
   "cell_type": "code",
   "execution_count": null,
   "metadata": {},
   "outputs": [],
   "source": [
    "#Keys\n",
    "\n",
    "#You can always retrieve the values based on the names:\n",
    "\n",
    "# Get value by keys\n",
    "\n",
    "release_year_dict['Thriller'] \n",
    "\n",
    "#And\n",
    "\n",
    "# Get value by key\n",
    "\n",
    "release_year_dict['The Bodyguard'] "
   ]
  },
  {
   "cell_type": "code",
   "execution_count": null,
   "metadata": {},
   "outputs": [],
   "source": [
    "#Now let you retrieve the keys of the dictionary using the method release_year_dict():\n",
    "\n",
    "\n",
    "# Get all the keys in dictionary\n",
    "\n",
    "release_year_dict.keys() \n",
    "\n",
    "#You can retrieve the values using the method values():\n",
    "\n",
    "# Get all the values in dictionary\n",
    "\n",
    "release_year_dict.values() \n",
    "\n",
    "#We can add an entry:\n",
    "\n",
    "# Append value with key into dictionary\n",
    "\n",
    "release_year_dict['Graduation'] = '2007'\n",
    "release_year_dict\n",
    "\n",
    "#We can delete an entry\n",
    "\n",
    "# Delete entries by key\n",
    "\n",
    "del(release_year_dict['Thriller'])\n",
    "del(release_year_dict['Graduation'])\n",
    "release_year_dict\n",
    "\n",
    "#We can verify if an element is in the dictionary: \n",
    "\n",
    "# Verify the key is in the dictionary\n",
    "\n",
    "'The Bodyguard' in release_year_dict"
   ]
  },
  {
   "cell_type": "code",
   "execution_count": 3,
   "metadata": {},
   "outputs": [
    {
     "data": {
      "text/plain": [
       "{'The Bodyguard': '1992', 'Saturday Night Fever': '1977'}"
      ]
     },
     "execution_count": 3,
     "metadata": {},
     "output_type": "execute_result"
    }
   ],
   "source": [
    "#Quiz on Dictionaries\n",
    "\n",
    "# Question sample dictionary\n",
    "\n",
    "soundtrack_dict = {\"The Bodyguard\":\"1992\", \"Saturday Night Fever\":\"1977\"}\n",
    "soundtrack_dict"
   ]
  },
  {
   "cell_type": "code",
   "execution_count": 4,
   "metadata": {},
   "outputs": [
    {
     "data": {
      "text/plain": [
       "dict_keys(['The Bodyguard', 'Saturday Night Fever'])"
      ]
     },
     "execution_count": 4,
     "metadata": {},
     "output_type": "execute_result"
    }
   ],
   "source": [
    "#a) In the dictionary soundtrack_dict what are the keys ?\n",
    "\n",
    "# Write your code below and press Shift+Enter to execute\n",
    "\n",
    "soundtrack_dict.keys()"
   ]
  },
  {
   "cell_type": "code",
   "execution_count": 5,
   "metadata": {},
   "outputs": [
    {
     "data": {
      "text/plain": [
       "dict_values(['1992', '1977'])"
      ]
     },
     "execution_count": 5,
     "metadata": {},
     "output_type": "execute_result"
    }
   ],
   "source": [
    "#b) In the dictionary soundtrack_dict what are the values ?\n",
    "\n",
    "# Write your code below and press Shift+Enter to execute\n",
    "\n",
    "soundtrack_dict.values()"
   ]
  },
  {
   "cell_type": "code",
   "execution_count": 6,
   "metadata": {},
   "outputs": [
    {
     "data": {
      "text/plain": [
       "{'Back in Black': 50, 'The Bodyguard': 50, 'Thriller': 65}"
      ]
     },
     "execution_count": 6,
     "metadata": {},
     "output_type": "execute_result"
    }
   ],
   "source": [
    "#You will need this dictionary for the following questions:\n",
    "\n",
    "#The Albums Back in Black, The Bodyguard and Thriller have the following music recording sales in millions 50, 50 and 65 respectively:\n",
    "\n",
    "#a) Create a dictionary album_sales_dict where the keys are the album name and the sales in millions are the values. \n",
    "\n",
    "# Write your code below and press Shift+Enter to execute\n",
    "\n",
    "album_sales_dict = {\"Back in Black\": 50, \"The Bodyguard\": 50, \"Thriller\": 65}\n",
    "album_sales_dict"
   ]
  },
  {
   "cell_type": "code",
   "execution_count": 7,
   "metadata": {},
   "outputs": [
    {
     "data": {
      "text/plain": [
       "65"
      ]
     },
     "execution_count": 7,
     "metadata": {},
     "output_type": "execute_result"
    }
   ],
   "source": [
    "#b) Use the dictionary to find the total sales of Thriller:\n",
    "\n",
    "# Write your code below and press Shift+Enter to execute\n",
    "\n",
    "album_sales_dict[\"Thriller\"]"
   ]
  },
  {
   "cell_type": "code",
   "execution_count": 8,
   "metadata": {},
   "outputs": [
    {
     "data": {
      "text/plain": [
       "dict_keys(['Back in Black', 'The Bodyguard', 'Thriller'])"
      ]
     },
     "execution_count": 8,
     "metadata": {},
     "output_type": "execute_result"
    }
   ],
   "source": [
    "#c) Find the names of the albums from the dictionary using the method keys:\n",
    "\n",
    "# Write your code below and press Shift+Enter to execute\n",
    "\n",
    "album_sales_dict.keys()"
   ]
  },
  {
   "cell_type": "code",
   "execution_count": null,
   "metadata": {},
   "outputs": [],
   "source": [
    "#d) Find the names of the recording sales from the dictionary using the method values.\n",
    "\n",
    "# Write your code below and press Shift+Enter to execute\n",
    "\n",
    "album_sales_dict.values()"
   ]
  }
 ],
 "metadata": {
  "kernelspec": {
   "display_name": "Python 3",
   "language": "python",
   "name": "python3"
  },
  "language_info": {
   "codemirror_mode": {
    "name": "ipython",
    "version": 3
   },
   "file_extension": ".py",
   "mimetype": "text/x-python",
   "name": "python",
   "nbconvert_exporter": "python",
   "pygments_lexer": "ipython3",
   "version": "3.7.3"
  }
 },
 "nbformat": 4,
 "nbformat_minor": 2
}
